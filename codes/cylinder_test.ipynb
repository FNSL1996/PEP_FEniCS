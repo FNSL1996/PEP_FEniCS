{
 "cells": [
  {
   "cell_type": "markdown",
   "metadata": {},
   "source": [
    "# Benchmark test: Cylinder loading test\n",
    "\n",
    "This notebook contains the test used as benchmark of the elasto-plastic component of this article. This implementation was based on the _[Elasto-plastic analysis of a 2D von Mises material](https://comet-fenics.readthedocs.io/en/latest/demo/2D_plasticity/vonMises_plasticity.py.html)_ demo. Please note that you will need to have install FEniCS 2019.1.0 to run this example. \n",
    "\n",
    "First, we import the libraries used in this test, as well as defining compiling options."
   ]
  },
  {
   "cell_type": "code",
   "execution_count": 1,
   "metadata": {},
   "outputs": [],
   "source": [
    "import numpy as np\n",
    "import dolfin as df\n",
    "import auxiliary_updated as au\n",
    "from datetime import datetime\n",
    "\n",
    "'''\n",
    "Compiler options\n",
    "'''\n",
    "df.parameters[\"form_compiler\"][\"cpp_optimize\"] = True\n",
    "df.parameters[\"form_compiler\"][\"representation\"] = 'uflacs'"
   ]
  },
  {
   "cell_type": "markdown",
   "metadata": {},
   "source": [
    "We import the mesh files used in this test. This meshes were constructed using GMsh, and adapted to FEniCS using [dolfin-convert]."
   ]
  },
  {
   "cell_type": "code",
   "execution_count": 2,
   "metadata": {},
   "outputs": [],
   "source": [
    "mesh_path = '../meshes/'\n",
    "file_name = 'cylinder_semispace'\n",
    "output_files = 'results_cylinder/'\n",
    "\n",
    "mesh = df.Mesh(mesh_path + file_name + '.xml')\n",
    "facets = df.MeshFunction('size_t',mesh,mesh_path + file_name+'_facet_region.xml')\n",
    "volumes = df.MeshFunction('size_t',mesh,mesh_path + file_name+'_physical_region.xml')"
   ]
  },
  {
   "cell_type": "markdown",
   "metadata": {},
   "source": [
    "We then define the finite element configuration to use in this test, as well as the solution spaces and the mechanical parameters of the benchmark."
   ]
  },
  {
   "cell_type": "code",
   "execution_count": 3,
   "metadata": {},
   "outputs": [],
   "source": [
    "'''\n",
    "Finite elements configuration\n",
    "'''\n",
    "\n",
    "ele_us  = df.VectorElement(\"CG\",  mesh.ufl_cell(), 2) # Solid displacement\n",
    "V = df.VectorFunctionSpace(mesh,'CG', 2) # Solution space for solid displacement\n",
    "We = df.TensorElement('DG',mesh.ufl_cell(),1,shape=(3,3)) # Tensor element for stress tensor\n",
    "W_stress = df.FunctionSpace(mesh, We) # Solution space for stress tensor\n",
    "W0e = df.FiniteElement(\"DG\", mesh.ufl_cell(), 1) # Finite element for cumulative plastic strain\n",
    "W0 = df.FunctionSpace(mesh, W0e) # Solution space for cumulative plastic strain\n",
    "\n",
    "'''\n",
    "Mechanical parameters\n",
    "'''\n",
    "\n",
    "E = df.Constant(70e3)\n",
    "nu = df.Constant(0.3)\n",
    "K = E/(3*(1 - 2*nu)) # Bulk modulus\n",
    "G = E/(2*(1 + nu)) # Shear modulus\n",
    "sig0 = df.Constant(250.0) # Yield strength\n",
    "Et = E/100. # Tangent modulus\n",
    "H = E*Et/(E - Et) # Hardening modulus"
   ]
  },
  {
   "cell_type": "markdown",
   "metadata": {},
   "source": [
    "Then, trial and test functions, as well as internal variables are defined. "
   ]
  },
  {
   "cell_type": "code",
   "execution_count": 4,
   "metadata": {},
   "outputs": [],
   "source": [
    "'''\n",
    "Trial and Test Functions\n",
    "'''\n",
    "\n",
    "v = df.TrialFunction(V)\n",
    "u_ = df.TestFunction(V)\n",
    "\n",
    "'''\n",
    "Functions to keep track of the current internal state and increments\n",
    "'''\n",
    "\n",
    "sig = df.Function(W_stress)\n",
    "edev_tensor = df.Function(W_stress, name = 'Deviatoric Strain tensor')\n",
    "sig_old = df.Function(W_stress)\n",
    "beta = df.Function(W0, name='Deviatoric Stress reduction')\n",
    "N = df.Function(W_stress, name='Normal vector to yield surface')\n",
    "plas_strain = df.Function(W0, name=\"Cumulative plastic strain\")\n",
    "q_VM = df.Function(W0, name = 'von Mises Equivalent Stress')\n",
    "p_stress = df.Function(W0, name = 'Mean Stress')\n",
    "evol_tr = df.Function(W0, name = 'Volumetric strain')\n",
    "u = df.Function(V, name=\"Total displacement\")\n",
    "du = df.Function(V, name=\"Iteration correction\")\n",
    "Du = df.Function(V, name=\"Current increment\")"
   ]
  },
  {
   "cell_type": "markdown",
   "metadata": {},
   "source": [
    "Boundary conditions, including a radial loading function, are then defined. In our original benchmark, we used 500 time steps. To be able to provide an example that can be easily run outside a cluster, we recommend using 50 time steps."
   ]
  },
  {
   "cell_type": "code",
   "execution_count": 5,
   "metadata": {},
   "outputs": [],
   "source": [
    "'''\n",
    "Boundary conditions\n",
    "'''\n",
    "# Bottom\n",
    "cb1 = df.DirichletBC(V.sub(2), df.Constant(0.0), \\\n",
    "                         facets, 1)\n",
    "\n",
    "# South\n",
    "cb2 = df.DirichletBC(V.sub(1), df.Constant(0.0), \\\n",
    "                         facets, 2)\n",
    "\n",
    "# East\n",
    "cb3 = df.DirichletBC(V.sub(0), df.Constant(0.0), \\\n",
    "                         facets, 4)\n",
    "# Top\n",
    "cb4 = df.DirichletBC(V.sub(2), df.Constant(0.0), \\\n",
    "                         facets, 6)\n",
    "    \n",
    "BCS = [cb1,cb2,cb3,cb4]\n",
    "\n",
    "'''\n",
    "Normal vector and loading function\n",
    "'''\n",
    "\n",
    "n = df.FacetNormal(mesh)\n",
    "loading = df.Expression('-t', t=0, degree=2)\n",
    "\n",
    "def F_ext(v):\n",
    "    return loading*df.dot(n, v)*df.ds(subdomain_data = facets, subdomain_id = 5)"
   ]
  },
  {
   "cell_type": "markdown",
   "metadata": {},
   "source": [
    "Now, we define functions for the residual and its tangent operator, as well as the plastic strain function."
   ]
  },
  {
   "cell_type": "code",
   "execution_count": 6,
   "metadata": {},
   "outputs": [],
   "source": [
    "'''\n",
    "Residual and TO\n",
    "'''\n",
    "\n",
    "TangentOperator = df.inner(au.epsilon(v), au.sigma_tang(K,G,H,u_,beta,N))*df.dx\n",
    "\n",
    "Residual = -df.inner(au.epsilon(u_),sig)*df.dx + F_ext(u_)\n",
    "\n",
    "'''\n",
    "Plastic strain\n",
    "'''\n",
    "\n",
    "P0 = df.FunctionSpace(mesh, \"DG\", 0)\n",
    "p_avg = df.Function(P0, name=\"Plastic strain\")\n",
    "S1 = df.TensorFunctionSpace(mesh, 'DG', 0, shape=(3,3))\n"
   ]
  },
  {
   "cell_type": "markdown",
   "metadata": {},
   "source": [
    "Finally, we solve the system using a Newton-Raphson scheme. Note that we do not export all the fields than can be generated with our solver. Further studies may modify this output according to its needs."
   ]
  },
  {
   "cell_type": "code",
   "execution_count": 7,
   "metadata": {},
   "outputs": [
    {
     "name": "stdout",
     "output_type": "stream",
     "text": [
      "Calling FFC just-in-time (JIT) compiler, this may take some time.\n",
      "Calling FFC just-in-time (JIT) compiler, this may take some time.\n",
      "  WARNING: The number of integration points for each cell will be: 216\n",
      "           Consider using the option 'quadrature_degree' to reduce the number of points\n",
      "Calling FFC just-in-time (JIT) compiler, this may take some time.\n",
      "Calling FFC just-in-time (JIT) compiler, this may take some time.\n",
      "  WARNING: The number of integration points for each cell will be: 125\n",
      "           Consider using the option 'quadrature_degree' to reduce the number of points\n",
      "Calling FFC just-in-time (JIT) compiler, this may take some time.\n",
      "  WARNING: The number of integration points for each cell will be: 1331\n",
      "           Consider using the option 'quadrature_degree' to reduce the number of points\n",
      "Residual:  1.9825624147586543e-13\n",
      "Calling FFC just-in-time (JIT) compiler, this may take some time.\n",
      "Loading steps finished: 1/50\n",
      "Residual:  2.02076685394523e-13\n",
      "Loading steps finished: 2/50\n",
      "Residual:  2.0131826959932731e-13\n",
      "Loading steps finished: 3/50\n",
      "Residual:  2.0228996998144666e-13\n",
      "Loading steps finished: 4/50\n",
      "Residual:  2.0304158315358825e-13\n",
      "Loading steps finished: 5/50\n",
      "Residual:  2.0258266523205183e-13\n",
      "Loading steps finished: 6/50\n",
      "Residual:  2.0708797260752823e-13\n",
      "Loading steps finished: 7/50\n",
      "Residual:  2.1000051955030897e-13\n",
      "Loading steps finished: 8/50\n",
      "Residual:  2.130202408664022e-13\n",
      "Loading steps finished: 9/50\n",
      "Residual:  2.1640470843901465e-13\n",
      "Loading steps finished: 10/50\n",
      "Residual:  2.2204506924787352e-13\n",
      "Loading steps finished: 11/50\n",
      "Residual:  2.2315935668553663e-13\n",
      "Loading steps finished: 12/50\n",
      "Residual:  2.297647803996552e-13\n",
      "Loading steps finished: 13/50\n",
      "Residual:  2.366741126477136e-13\n",
      "Loading steps finished: 14/50\n",
      "Residual:  0.06804285323030207\n",
      "Residual:  0.004658394134378086\n",
      "Residual:  0.00041272806122418155\n",
      "Residual:  8.446499001050914e-05\n",
      "Residual:  2.00912055470595e-05\n",
      "Residual:  8.136562602991566e-06\n",
      "Residual:  3.648549219480098e-06\n",
      "Residual:  1.7380058566392316e-06\n",
      "Residual:  8.360704698221483e-07\n",
      "Residual:  4.042909390751223e-07\n",
      "Residual:  1.9593250765600862e-07\n",
      "Residual:  9.50885588203893e-08\n",
      "Residual:  4.619092740368559e-08\n",
      "Residual:  2.2453296946233288e-08\n",
      "Residual:  1.091980966788587e-08\n",
      "Residual:  5.312630770440744e-09\n",
      "Residual:  2.58535524246573e-09\n",
      "Residual:  1.258399732065999e-09\n",
      "Residual:  6.126060099113112e-10\n",
      "Loading steps finished: 15/50\n"
     ]
    }
   ],
   "source": [
    "t = 0.0\n",
    "con = 0\n",
    "Nitermax, tol = 200, 1e-8\n",
    "\n",
    "'''\n",
    "Newton-Raphson\n",
    "'''\n",
    "\n",
    "Nitermax, tol = 200, 1e-8  # parameters of the Newton-Raphson procedure\n",
    "Nincr = 50\n",
    "load_steps = np.linspace(0, 500, Nincr+1)[1:]\n",
    "results = np.zeros((Nincr+1, 2))\n",
    "con = 0\n",
    "for i in range(0,np.size(load_steps)):\n",
    "    loading.t = load_steps[i]\n",
    "    A, Res = df.assemble_system(TangentOperator, Residual, BCS)\n",
    "    nRes0 = Res.norm(\"l2\")\n",
    "    nRes = nRes0\n",
    "    Du.interpolate(df.Constant((0, 0, 0)))\n",
    "    niter = 0\n",
    "    while nRes/nRes0 > tol and niter < Nitermax:\n",
    "        df.solve(A, du.vector(), Res, \"mumps\")\n",
    "        Du.assign(Du+du)\n",
    "        sig_, N_, beta_, dp_, q_, _, _, _, _ = au.sig_correction(Du,sig_old,plas_strain,K,G,sig0,H)\n",
    "        au.local_project(sig_, W_stress, df.dx,sig)\n",
    "        au.local_project(N_, W_stress, df.dx, N)\n",
    "        au.local_project(beta_, W0, df.dx, beta)\n",
    "        au.local_project(q_, W0, df.dx, q_VM)\n",
    "        A, Res = df.assemble_system(TangentOperator, Residual, BCS)\n",
    "        nRes = Res.norm(\"l2\")\n",
    "        print('Residual: ',nRes)\n",
    "        niter += 1\n",
    "        if niter == Nitermax:\n",
    "            print('Max number of iterations have been surpassed!')\n",
    "    u.assign(u+Du)\n",
    "    sig_old.assign(sig)\n",
    "    plas_strain.assign(plas_strain+au.local_project(dp_, W0, df.dx))\n",
    "\n",
    "# Postprocessing\n",
    "\n",
    "    u.rename('Solid displacement [m]','Desplazamiento del esqueleto sólido')\n",
    "    plas_strain.rename('Accumulated Plastic Strain','Strain Plastico Acumulado')\n",
    "\n",
    "    p_avg.assign(df.project(plas_strain, P0))\n",
    "    \n",
    "    file = df.File(output_files+\"us_test\"+str(i)+\".pvd\")\n",
    "    file << u\n",
    "    file = df.File(output_files+\"pstrain_test\"+str(i)+\".pvd\")\n",
    "    file << p_avg    \n",
    "    file = df.File(output_files+\"sigma_test\"+str(i)+\".pvd\")\n",
    "    sig_proj = df.project(sig,S1)\n",
    "    sig_proj.rename('Stress Tensor [MPa]','Tensor de stress de Cauchy')\n",
    "    file << sig_proj\n",
    "    file = df.File(output_files+\"VM_test\"+str(i)+\".pvd\")\n",
    "    q_proj = df.project(q_VM,P0)\n",
    "    q_proj.rename('von Mises Equivalent Stress [MPa]','Esfuerzo equivalente de von Mises')\n",
    "    file << q_proj\n",
    "\n",
    "    con +=1\n",
    "    print('Loading steps finished: '+str(con)+'/'+str(Nincr))\n"
   ]
  }
 ],
 "metadata": {
  "kernelspec": {
   "display_name": "Python 3.8.10 64-bit",
   "language": "python",
   "name": "python3"
  },
  "language_info": {
   "codemirror_mode": {
    "name": "ipython",
    "version": 3
   },
   "file_extension": ".py",
   "mimetype": "text/x-python",
   "name": "python",
   "nbconvert_exporter": "python",
   "pygments_lexer": "ipython3",
   "version": "3.8.10"
  },
  "orig_nbformat": 4,
  "vscode": {
   "interpreter": {
    "hash": "916dbcbb3f70747c44a77c7bcd40155683ae19c65e1c03b4aa3499c5328201f1"
   }
  }
 },
 "nbformat": 4,
 "nbformat_minor": 2
}
