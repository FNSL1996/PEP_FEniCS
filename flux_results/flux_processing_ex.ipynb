{
 "cells": [
  {
   "cell_type": "markdown",
   "metadata": {},
   "source": [
    "# Flux processing: Example\n",
    "\n",
    "This notebook contains an example of the flux calculation procedure done in Sáez-Leiva et al., (in review). SR_1 data is used.\n",
    "Please note that this example is customized for a plane with normal (1,0,0). However, it can be modified for a generic plane modifying this notebook and the FluxProcessing.py script.\n",
    "\n",
    "First, we import the libraries used in this calculation, including the FluxProcessing module. We also define the raw_data path, as well as the results path."
   ]
  },
  {
   "cell_type": "code",
   "execution_count": 11,
   "metadata": {},
   "outputs": [],
   "source": [
    "import numpy as np\n",
    "import matplotlib.pyplot as plt\n",
    "from matplotlib.lines import Line2D\n",
    "from matplotlib import gridspec\n",
    "import matplotlib.lines as mlines\n",
    "from scipy.interpolate import griddata\n",
    "import FluxProcessing as fp\n",
    "from tqdm import notebook\n",
    "\n",
    "input_path = 'models/raw_data/'\n",
    "output_path = 'models/processed_data/'"
   ]
  },
  {
   "cell_type": "markdown",
   "metadata": {},
   "source": [
    "In this example we use slice data at every time step, from the Darcy velocity field of the model SR_1. This slice, which correspond to the selected area in Figure 5f of the article, consist of a plane located at x = 8000 mts, and with a domain defined in y $\\in$ (-3500, -1500) mts and z $\\in$ (-5000,-2000) mts. \n",
    "\n",
    "We proceed to load the files and filter duplicated points that could be generated creating the slice."
   ]
  },
  {
   "cell_type": "code",
   "execution_count": 8,
   "metadata": {},
   "outputs": [
    {
     "data": {
      "application/vnd.jupyter.widget-view+json": {
       "model_id": "dbf29755ffb246b8b0886791a347a5b8",
       "version_major": 2,
       "version_minor": 0
      },
      "text/plain": [
       "File filtering:   0%|          | 0/269 [00:00<?, ?it/s]"
      ]
     },
     "metadata": {},
     "output_type": "display_data"
    }
   ],
   "source": [
    "for i in notebook.tnrange(269,desc='File filtering'):\n",
    "    file = 'fluxovertime__' + str(i)\n",
    "    fluxes = np.loadtxt(input_path+file+'.txt',delimiter=',',skiprows=1)\n",
    "    # Filter data to delete duplicated values\n",
    "    fluxes_filtered = []\n",
    "    for i in range(np.size(fluxes[:,1])):\n",
    "        point = fluxes[i,[3,4,5]]\n",
    "        if i == 0:\n",
    "            fluxes_filtered.append(fluxes[i,:])\n",
    "            continue\n",
    "        elif np.array_equiv(point,fluxes[i-1,[3,4,5]]):\n",
    "            continue\n",
    "        else:\n",
    "            fluxes_filtered.append(fluxes[i,:])\n",
    "    \n",
    "    fluxes_filtered = np.array(fluxes_filtered)\n",
    "    \n",
    "    np.savetxt(input_path+file+'_Filtered.txt',fluxes_filtered)"
   ]
  },
  {
   "cell_type": "markdown",
   "metadata": {},
   "source": [
    "As result, the previous loop creates filtered versions of the slices data. With this filtered files, we proceed to calculate the flux integral using the FluxProcessing module. A np.array(), saved in a txt, containing the flux integral at each time step is the output of this loop. A grid is previously created to do the calculation."
   ]
  },
  {
   "cell_type": "code",
   "execution_count": 10,
   "metadata": {},
   "outputs": [
    {
     "data": {
      "application/vnd.jupyter.widget-view+json": {
       "model_id": "116a801a05904ba78691a0babb08719d",
       "version_major": 2,
       "version_minor": 0
      },
      "text/plain": [
       "Calculating Flux...:   0%|          | 0/269 [00:00<?, ?it/s]"
      ]
     },
     "metadata": {},
     "output_type": "display_data"
    }
   ],
   "source": [
    "grid_y, grid_z = np.mgrid[-1500:-3500:1500j, -2000:-5000:1500j]\n",
    "dAreas = fp.dA(grid_y, grid_z)\n",
    "\n",
    "flux_overtime = []\n",
    "for i in notebook.tnrange(269,desc='Calculating Flux...'):\n",
    "    file = input_path + 'fluxovertime__' + str(i) + '_Filtered.txt'\n",
    "    fluxes_filtered = np.loadtxt(file)\n",
    "    flux = griddata(fluxes_filtered[:,[4,5]], fluxes_filtered[:,0], (grid_y, grid_z), method='cubic')\n",
    "    flux_overtime.append(fp.flux_integral(grid_y,grid_z,flux,dAreas))\n",
    "np.savetxt(output_path+'FluxVariation.txt',np.array(flux_overtime))"
   ]
  },
  {
   "cell_type": "markdown",
   "metadata": {},
   "source": [
    "Finally, we plot our results using a snippet from the flux_plotter notebook (see this notebook for more details)."
   ]
  },
  {
   "cell_type": "code",
   "execution_count": 12,
   "metadata": {},
   "outputs": [
    {
     "data": {
      "text/plain": [
       "<matplotlib.legend.Legend at 0x2df2020c310>"
      ]
     },
     "execution_count": 12,
     "metadata": {},
     "output_type": "execute_result"
    },
    {
     "data": {
      "image/png": "[encoded data removed]",
      "text/plain": [
       "<Figure size 576x576 with 1 Axes>"
      ]
     },
     "metadata": {
      "needs_background": "light"
     },
     "output_type": "display_data"
    }
   ],
   "source": [
    "times_1 = np.loadtxt('models/timesteps_SR_1.txt')\n",
    "flux = np.loadtxt(output_path+'FluxVariation.txt')\n",
    "\n",
    "times_1 = times_1[17:,4]\n",
    "flux = flux[17:]/flux[17]\n",
    "\n",
    "legend_elements = [mlines.Line2D([0],[0],color='red',label='SR_1')]\n",
    "\n",
    "fig = plt.figure(figsize=(8,8))\n",
    "ax = fig.add_subplot(111)\n",
    "ax.set_yticks([1,3,5,7,9,11,13],minor=False)\n",
    "ax.grid(True, which=\"major\", ls=\"-\", lw=1, color='k',alpha=0.2)\n",
    "ax.grid(True, which=\"minor\", ls=\"-\", alpha = 0.05)\n",
    "ax.plot(times_1,flux,'red')\n",
    "ax.set_xscale('log')\n",
    "ax.set_xticks([1e-6,1e-4,1e-2,1e0,1e2],minor=False)\n",
    "ax.set_xlabel('Time [days]',fontsize=20,fontweight='bold')\n",
    "ax.set_ylabel('Normalized Flux [-]',fontsize=20,fontweight='bold')\n",
    "ax.set_title('Flux evolution over time after fault slip',fontsize=15,fontweight='bold')\n",
    "ax.set_xlim(1e-6,1e2)\n",
    "ax.set_ylim(1,13)\n",
    "ax.tick_params(width=2)\n",
    "ax.spines['top'].set_linewidth(2)\n",
    "ax.spines['bottom'].set_linewidth(2)\n",
    "ax.spines['left'].set_linewidth(2)\n",
    "ax.spines['right'].set_linewidth(2)\n",
    "ax.tick_params(axis='both', labelsize=20)\n",
    "ax.legend(handles = legend_elements, loc = 1, ncol = 1,fontsize=18,framealpha=1,edgecolor='k')"
   ]
  }
 ],
 "metadata": {
  "kernelspec": {
   "display_name": "Python 3.8.8 ('base')",
   "language": "python",
   "name": "python3"
  },
  "language_info": {
   "codemirror_mode": {
    "name": "ipython",
    "version": 3
   },
   "file_extension": ".py",
   "mimetype": "text/x-python",
   "name": "python",
   "nbconvert_exporter": "python",
   "pygments_lexer": "ipython3",
   "version": "3.8.8"
  },
  "orig_nbformat": 4,
  "vscode": {
   "interpreter": {
    "hash": "321c287d430dfa74150ad4534669cee99e55d7b4b9f525e749a4a739721854ad"
   }
  }
 },
 "nbformat": 4,
 "nbformat_minor": 2
}
